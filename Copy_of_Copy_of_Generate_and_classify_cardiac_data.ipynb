{
  "cells": [
    {
      "cell_type": "markdown",
      "metadata": {
        "id": "view-in-github",
        "colab_type": "text"
      },
      "source": [
        "<a href=\"https://colab.research.google.com/github/Ozmer/Omar_Project/blob/master/Copy_of_Copy_of_Generate_and_classify_cardiac_data.ipynb\" target=\"_parent\"><img src=\"https://colab.research.google.com/assets/colab-badge.svg\" alt=\"Open In Colab\"/></a>"
      ]
    },
    {
      "cell_type": "markdown",
      "source": [
        "**Import Lib**"
      ],
      "metadata": {
        "id": "o9918Ru7xQri"
      }
    },
    {
      "cell_type": "code",
      "execution_count": null,
      "metadata": {
        "id": "aH4yVRalTDog"
      },
      "outputs": [],
      "source": [
        "import numpy as np \n",
        "import pandas as pd \n",
        "from sklearn.utils import shuffle\n",
        "import random "
      ]
    },
    {
      "cell_type": "markdown",
      "source": [
        "**classification function**"
      ],
      "metadata": {
        "id": "hn_M_jIBw6NA"
      }
    },
    {
      "cell_type": "code",
      "source": [
        "def Gen_Triage(stv):#13 \n",
        "    res = {} \n",
        "    spo2 ,HB, LB, Ch, Sh, Palip, Rest, Peaks, QR, PP, STEL, _  = stv\n",
        "    res[\"RISK\"] = 12.0 if spo2 <= 80 else 0\n",
        "    res[\"RISK\"] += 7.0 if HB >= 22 else 0\n",
        "    res[\"RISK\"] += 10.0 if Peaks >=130 else 0\n",
        "    #urgent \n",
        "    res[\"URGENT\"] = 12.0 if (spo2 >= 81 and spo2 <=90) else 0\n",
        "    res[\"URGENT\"] += 5.0 if (HB >=18 and HB <= 21.9) else 0\n",
        "    res[\"URGENT\"] += 5.0 if LB >=11 else 0\n",
        "    res[\"URGENT\"] += 10.0 if ( Peaks <= 40 or (Peaks >= 111 and Peaks <= 129) ) else 0\n",
        "    res[\"URGENT\"] += 4.0 if PP =='irregular' else 0\n",
        "    #sick  \n",
        "    res[\"SICK\"] =  6.0 if (spo2 >= 91 and spo2 <=95) else 0\n",
        "    res[\"SICK\"] += 4.0 if (HB >=14 and HB <= 17.9) else 0\n",
        "    res[\"SICK\"] += 3.0 if (LB >=9 and LB <=11) else 0\n",
        "    res[\"SICK\"] += 10.0 if ((Peaks >= 41 and Peaks <= 50) or (Peaks >= 101 and Peaks <= 110)) else 0\n",
        "    res[\"SICK\"] += 4.0 if QR>0.3 else 0\n",
        "    res[\"SICK\"] += 2.0 if Rest=='Yes' else 0#000\n",
        "    res[\"SICK\"] += 6.0 if Palip=='Yes' else 0\n",
        "    res[\"SICK\"] += 18.0 if Ch=='Yes' else 0\n",
        "    res[\"SICK\"] += 12.0 if Sh=='Yes' else 0\n",
        "    res[\"SICK\"] += 20.0 if STEL=='Yes' else 0 #Straight \n",
        "    #COLD STATE    \n",
        "    res[\"COLD STATE\"] = 10.0 if (Peaks >= 50 and Peaks <= 59) else 10.0 if (Peaks >= 91 and Peaks <= 100)else 0\n",
        "    res[\"COLD STATE\"] += 0.0 if PP =='regular' else 4.0 #some test\n",
        "\n",
        "    res[\"COLD STATE\"] += 12.0 if spo2 <= 80 else 0\n",
        "    res[\"COLD STATE\"] += 7.0 if HB >= 22 else 0\n",
        "    #NORMAL    \n",
        "    res[\"NORMAL\"]  = 0.0 if (spo2 >= 96 and spo2 <=100) else  6.0 if (spo2 >= 91 and spo2 <=95) else 12.0 \n",
        "    res[\"NORMAL\"] += 0.0 if (HB >=11 and HB <= 14) else 4.0 if (HB >=14 and HB <= 18)  else 5.0 if (HB >=18 and HB <= 22) else 7.0 \n",
        "    res[\"NORMAL\"] += 0.0 if (LB >=6 and LB <=9) else 3.0 if (LB >=9 and LB <=11) else 5.0\n",
        "    res[\"NORMAL\"] += 0.0 if (Peaks >= 60 and Peaks <= 90) else 10.0\n",
        "    res[\"NORMAL\"] += 0.0 if Rest=='No' else 2.0\n",
        "    res[\"NORMAL\"] += 0.0 if Ch=='No' else 18.0\n",
        "    res[\"NORMAL\"] += 0.0 if Palip=='No' else 6.0\n",
        "    res[\"NORMAL\"] += 0.0 if Sh=='No' else 12.0\n",
        "    res[\"NORMAL\"] += 0.0 if QR < 0.3 else 4.0\n",
        "    res[\"NORMAL\"] += 0.0 if STEL=='No' else 20.0\n",
        "    if res[\"NORMAL\"] <= 15 and PP=='regular' and (HB <=14 or (Peaks >= 60 and Peaks <= 90)) and (spo2 >= 80 and spo2 <= 90):\n",
        "       return \"NORMAL\"\n",
        "    if res[\"RISK\"] >= 17:\n",
        "       return \"RISK\"\n",
        "    if res[\"SICK\"] >= 66:\n",
        "       return \"SICK\"\n",
        "    if res[\"URGENT\"] >= 22 and PP =='irregular':\n",
        "       return \"URGENT\"\n",
        "\n",
        "    if (res[\"COLD STATE\"] == 10):\n",
        "       return \"COLD STATE\"\n",
        "    return \"null\" "
      ],
      "metadata": {
        "id": "RnE0bbrmipDW"
      },
      "execution_count": null,
      "outputs": []
    },
    {
      "cell_type": "markdown",
      "source": [
        "**Test classify Triage function**"
      ],
      "metadata": {
        "id": "a-oAXcbJuQMz"
      }
    },
    {
      "cell_type": "code",
      "execution_count": null,
      "metadata": {
        "colab": {
          "base_uri": "https://localhost:8080/"
        },
        "id": "6nUNSkafNKee",
        "outputId": "b19d11f6-a577-4264-86ab-4d84c9d58cf9"
      },
      "outputs": [
        {
          "output_type": "stream",
          "name": "stdout",
          "text": [
            "URGENT\n"
          ]
        }
      ],
      "source": [
        "s = Gen_Triage([90, 19.0, 9.0, 'Yes', 'Yes', 'Yes', 'Yes', 115, 0.14, 'irregular', 'No', 'None']) \n",
        "print(s) "
      ]
    },
    {
      "cell_type": "markdown",
      "source": [
        "**Column names**"
      ],
      "metadata": {
        "id": "ZgbidjPJukxo"
      }
    },
    {
      "cell_type": "code",
      "execution_count": null,
      "metadata": {
        "id": "lD2s9CCVU4zr"
      },
      "outputs": [],
      "source": [
        "all_col = '''\n",
        "Spo2\n",
        "HBlood\n",
        "LBlood\n",
        "ChestPain\n",
        "SHBreath\n",
        "Palip\n",
        "Rest\n",
        "Peaks\n",
        "QRSwidth\n",
        "P_P\n",
        "STEl\n",
        "Triage\n",
        "'''"
      ]
    },
    {
      "cell_type": "markdown",
      "source": [
        "**Number of samples to be generated**"
      ],
      "metadata": {
        "id": "O22Mi1OGuzSl"
      }
    },
    {
      "cell_type": "code",
      "execution_count": null,
      "metadata": {
        "id": "Kz9xr-ImV0FJ"
      },
      "outputs": [],
      "source": [
        "numdata = 20000000"
      ]
    },
    {
      "cell_type": "markdown",
      "metadata": {
        "id": "6ZAIi_VBv4t0"
      },
      "source": [
        "**start gen all columns in range 75 to 100**"
      ]
    },
    {
      "cell_type": "code",
      "execution_count": null,
      "metadata": {
        "id": "u-t8PMTATMzV"
      },
      "outputs": [],
      "source": [
        "wl = pd.DataFrame(np.random.randint(75,100 ,size=(numdata, 12)) ,columns=all_col.split()) "
      ]
    },
    {
      "cell_type": "code",
      "execution_count": null,
      "metadata": {
        "id": "hU15IOWpUNe5",
        "colab": {
          "base_uri": "https://localhost:8080/",
          "height": 206
        },
        "outputId": "5bb409d6-5833-4872-f0c0-41701ed2f640"
      },
      "outputs": [
        {
          "output_type": "execute_result",
          "data": {
            "text/plain": [
              "   Spo2  HBlood  LBlood  ChestPain  SHBreath  Palip  Rest  Peaks  QRSwidth  \\\n",
              "0    98      98      76         98        99     91    87     86        96   \n",
              "1    94      92      79         94        76     88    81     77        97   \n",
              "2    76      79      91         87        89     98    99     99        98   \n",
              "3    81      97      87         92        90     79    81     76        92   \n",
              "4    76      84      76         85        88     89    92     84        95   \n",
              "\n",
              "   P_P  STEl  Triage  \n",
              "0   76    93      87  \n",
              "1   93    86      76  \n",
              "2   85    94      81  \n",
              "3   87    86      81  \n",
              "4   81    83      95  "
            ],
            "text/html": [
              "\n",
              "  <div id=\"df-6df96de1-4f55-4426-9201-a6bc0ba8588d\">\n",
              "    <div class=\"colab-df-container\">\n",
              "      <div>\n",
              "<style scoped>\n",
              "    .dataframe tbody tr th:only-of-type {\n",
              "        vertical-align: middle;\n",
              "    }\n",
              "\n",
              "    .dataframe tbody tr th {\n",
              "        vertical-align: top;\n",
              "    }\n",
              "\n",
              "    .dataframe thead th {\n",
              "        text-align: right;\n",
              "    }\n",
              "</style>\n",
              "<table border=\"1\" class=\"dataframe\">\n",
              "  <thead>\n",
              "    <tr style=\"text-align: right;\">\n",
              "      <th></th>\n",
              "      <th>Spo2</th>\n",
              "      <th>HBlood</th>\n",
              "      <th>LBlood</th>\n",
              "      <th>ChestPain</th>\n",
              "      <th>SHBreath</th>\n",
              "      <th>Palip</th>\n",
              "      <th>Rest</th>\n",
              "      <th>Peaks</th>\n",
              "      <th>QRSwidth</th>\n",
              "      <th>P_P</th>\n",
              "      <th>STEl</th>\n",
              "      <th>Triage</th>\n",
              "    </tr>\n",
              "  </thead>\n",
              "  <tbody>\n",
              "    <tr>\n",
              "      <th>0</th>\n",
              "      <td>98</td>\n",
              "      <td>98</td>\n",
              "      <td>76</td>\n",
              "      <td>98</td>\n",
              "      <td>99</td>\n",
              "      <td>91</td>\n",
              "      <td>87</td>\n",
              "      <td>86</td>\n",
              "      <td>96</td>\n",
              "      <td>76</td>\n",
              "      <td>93</td>\n",
              "      <td>87</td>\n",
              "    </tr>\n",
              "    <tr>\n",
              "      <th>1</th>\n",
              "      <td>94</td>\n",
              "      <td>92</td>\n",
              "      <td>79</td>\n",
              "      <td>94</td>\n",
              "      <td>76</td>\n",
              "      <td>88</td>\n",
              "      <td>81</td>\n",
              "      <td>77</td>\n",
              "      <td>97</td>\n",
              "      <td>93</td>\n",
              "      <td>86</td>\n",
              "      <td>76</td>\n",
              "    </tr>\n",
              "    <tr>\n",
              "      <th>2</th>\n",
              "      <td>76</td>\n",
              "      <td>79</td>\n",
              "      <td>91</td>\n",
              "      <td>87</td>\n",
              "      <td>89</td>\n",
              "      <td>98</td>\n",
              "      <td>99</td>\n",
              "      <td>99</td>\n",
              "      <td>98</td>\n",
              "      <td>85</td>\n",
              "      <td>94</td>\n",
              "      <td>81</td>\n",
              "    </tr>\n",
              "    <tr>\n",
              "      <th>3</th>\n",
              "      <td>81</td>\n",
              "      <td>97</td>\n",
              "      <td>87</td>\n",
              "      <td>92</td>\n",
              "      <td>90</td>\n",
              "      <td>79</td>\n",
              "      <td>81</td>\n",
              "      <td>76</td>\n",
              "      <td>92</td>\n",
              "      <td>87</td>\n",
              "      <td>86</td>\n",
              "      <td>81</td>\n",
              "    </tr>\n",
              "    <tr>\n",
              "      <th>4</th>\n",
              "      <td>76</td>\n",
              "      <td>84</td>\n",
              "      <td>76</td>\n",
              "      <td>85</td>\n",
              "      <td>88</td>\n",
              "      <td>89</td>\n",
              "      <td>92</td>\n",
              "      <td>84</td>\n",
              "      <td>95</td>\n",
              "      <td>81</td>\n",
              "      <td>83</td>\n",
              "      <td>95</td>\n",
              "    </tr>\n",
              "  </tbody>\n",
              "</table>\n",
              "</div>\n",
              "      <button class=\"colab-df-convert\" onclick=\"convertToInteractive('df-6df96de1-4f55-4426-9201-a6bc0ba8588d')\"\n",
              "              title=\"Convert this dataframe to an interactive table.\"\n",
              "              style=\"display:none;\">\n",
              "        \n",
              "  <svg xmlns=\"http://www.w3.org/2000/svg\" height=\"24px\"viewBox=\"0 0 24 24\"\n",
              "       width=\"24px\">\n",
              "    <path d=\"M0 0h24v24H0V0z\" fill=\"none\"/>\n",
              "    <path d=\"M18.56 5.44l.94 2.06.94-2.06 2.06-.94-2.06-.94-.94-2.06-.94 2.06-2.06.94zm-11 1L8.5 8.5l.94-2.06 2.06-.94-2.06-.94L8.5 2.5l-.94 2.06-2.06.94zm10 10l.94 2.06.94-2.06 2.06-.94-2.06-.94-.94-2.06-.94 2.06-2.06.94z\"/><path d=\"M17.41 7.96l-1.37-1.37c-.4-.4-.92-.59-1.43-.59-.52 0-1.04.2-1.43.59L10.3 9.45l-7.72 7.72c-.78.78-.78 2.05 0 2.83L4 21.41c.39.39.9.59 1.41.59.51 0 1.02-.2 1.41-.59l7.78-7.78 2.81-2.81c.8-.78.8-2.07 0-2.86zM5.41 20L4 18.59l7.72-7.72 1.47 1.35L5.41 20z\"/>\n",
              "  </svg>\n",
              "      </button>\n",
              "      \n",
              "  <style>\n",
              "    .colab-df-container {\n",
              "      display:flex;\n",
              "      flex-wrap:wrap;\n",
              "      gap: 12px;\n",
              "    }\n",
              "\n",
              "    .colab-df-convert {\n",
              "      background-color: #E8F0FE;\n",
              "      border: none;\n",
              "      border-radius: 50%;\n",
              "      cursor: pointer;\n",
              "      display: none;\n",
              "      fill: #1967D2;\n",
              "      height: 32px;\n",
              "      padding: 0 0 0 0;\n",
              "      width: 32px;\n",
              "    }\n",
              "\n",
              "    .colab-df-convert:hover {\n",
              "      background-color: #E2EBFA;\n",
              "      box-shadow: 0px 1px 2px rgba(60, 64, 67, 0.3), 0px 1px 3px 1px rgba(60, 64, 67, 0.15);\n",
              "      fill: #174EA6;\n",
              "    }\n",
              "\n",
              "    [theme=dark] .colab-df-convert {\n",
              "      background-color: #3B4455;\n",
              "      fill: #D2E3FC;\n",
              "    }\n",
              "\n",
              "    [theme=dark] .colab-df-convert:hover {\n",
              "      background-color: #434B5C;\n",
              "      box-shadow: 0px 1px 3px 1px rgba(0, 0, 0, 0.15);\n",
              "      filter: drop-shadow(0px 1px 2px rgba(0, 0, 0, 0.3));\n",
              "      fill: #FFFFFF;\n",
              "    }\n",
              "  </style>\n",
              "\n",
              "      <script>\n",
              "        const buttonEl =\n",
              "          document.querySelector('#df-6df96de1-4f55-4426-9201-a6bc0ba8588d button.colab-df-convert');\n",
              "        buttonEl.style.display =\n",
              "          google.colab.kernel.accessAllowed ? 'block' : 'none';\n",
              "\n",
              "        async function convertToInteractive(key) {\n",
              "          const element = document.querySelector('#df-6df96de1-4f55-4426-9201-a6bc0ba8588d');\n",
              "          const dataTable =\n",
              "            await google.colab.kernel.invokeFunction('convertToInteractive',\n",
              "                                                     [key], {});\n",
              "          if (!dataTable) return;\n",
              "\n",
              "          const docLinkHtml = 'Like what you see? Visit the ' +\n",
              "            '<a target=\"_blank\" href=https://colab.research.google.com/notebooks/data_table.ipynb>data table notebook</a>'\n",
              "            + ' to learn more about interactive tables.';\n",
              "          element.innerHTML = '';\n",
              "          dataTable['output_type'] = 'display_data';\n",
              "          await google.colab.output.renderOutput(dataTable, element);\n",
              "          const docLink = document.createElement('div');\n",
              "          docLink.innerHTML = docLinkHtml;\n",
              "          element.appendChild(docLink);\n",
              "        }\n",
              "      </script>\n",
              "    </div>\n",
              "  </div>\n",
              "  "
            ]
          },
          "metadata": {},
          "execution_count": 7
        }
      ],
      "source": [
        "wl.head(5) "
      ]
    },
    {
      "cell_type": "markdown",
      "source": [
        "**We Change the fields values according to the criteria and range of each field**"
      ],
      "metadata": {
        "id": "uXo2nsAovaHc"
      }
    },
    {
      "cell_type": "code",
      "execution_count": null,
      "metadata": {
        "id": "TCjHNSjKaW2x"
      },
      "outputs": [],
      "source": [
        "wl['HBlood']   = pd.Series(random.choices(np.arange(11.0, 23.1, 0.5).tolist(), weights=np.arange(11.0, 23.1, 0.5).tolist(), k=len(wl))) \n",
        "wl['LBlood']   = pd.Series(random.choices(np.arange(6.0, 12.1, 0.5).tolist(), weights=np.arange(6.0, 12.1, 0.5).tolist(), k=len(wl))) \n",
        "wl['QRSwidth'] = pd.Series(random.choices(np.arange(0.06, 0.40, 0.02).tolist(), weights=np.arange(0.06, 0.40, 0.02).tolist(), k=len(wl))) "
      ]
    },
    {
      "cell_type": "code",
      "execution_count": null,
      "metadata": {
        "id": "YtpfCDwjWBA9"
      },
      "outputs": [],
      "source": [
        "wl['ChestPain'] = pd.Series(random.choices(['Yes','No'], weights=[1, 1], k=len(wl)))\n",
        "wl['SHBreath']  = pd.Series(random.choices(['Yes','No'], weights=[1, 1], k=len(wl)))\n",
        "wl['Palip']     = pd.Series(random.choices(['Yes','No'], weights=[1, 1], k=len(wl)))\n",
        "wl['Rest']      = pd.Series(random.choices(['Yes','No'], weights=[1, 1], k=len(wl)))\n",
        "\n",
        "wl['P_P']  = pd.Series(random.choices(['regular','irregular'], weights=[1, 1], k=len(wl)))\n",
        "wl['STEl'] = pd.Series(random.choices(['Yes','No'], weights=[1, 1], k=len(wl))) "
      ]
    },
    {
      "cell_type": "code",
      "execution_count": null,
      "metadata": {
        "id": "CCg_6nWMX9P0"
      },
      "outputs": [],
      "source": [
        "wl['Peaks'] = pd.DataFrame(np.random.randint(40,140 ,size=(numdata, 1)) ,columns=['Peaks']) "
      ]
    },
    {
      "cell_type": "code",
      "execution_count": null,
      "metadata": {
        "colab": {
          "base_uri": "https://localhost:8080/",
          "height": 206
        },
        "id": "sMsvk5bvWmQ-",
        "outputId": "0ffe3c19-5ee5-488d-b476-e4ef6bda3b66"
      },
      "outputs": [
        {
          "output_type": "execute_result",
          "data": {
            "text/plain": [
              "   Spo2  HBlood  LBlood ChestPain SHBreath Palip Rest  Peaks  QRSwidth  \\\n",
              "0    80    23.0    10.5        No       No   Yes  Yes    105      0.22   \n",
              "1    81    19.5    11.5       Yes      Yes   Yes   No     50      0.20   \n",
              "2    76    17.5     6.0       Yes      Yes   Yes  Yes    117      0.38   \n",
              "3    91    18.0    12.0        No      Yes    No  Yes     72      0.36   \n",
              "4    92    14.0    12.0       Yes       No    No  Yes    100      0.36   \n",
              "\n",
              "         P_P STEl  Triage  \n",
              "0  irregular   No      93  \n",
              "1  irregular  Yes      81  \n",
              "2  irregular  Yes      94  \n",
              "3    regular  Yes      80  \n",
              "4  irregular   No      82  "
            ],
            "text/html": [
              "\n",
              "  <div id=\"df-38d741f3-3c37-4941-a514-1c3665780588\">\n",
              "    <div class=\"colab-df-container\">\n",
              "      <div>\n",
              "<style scoped>\n",
              "    .dataframe tbody tr th:only-of-type {\n",
              "        vertical-align: middle;\n",
              "    }\n",
              "\n",
              "    .dataframe tbody tr th {\n",
              "        vertical-align: top;\n",
              "    }\n",
              "\n",
              "    .dataframe thead th {\n",
              "        text-align: right;\n",
              "    }\n",
              "</style>\n",
              "<table border=\"1\" class=\"dataframe\">\n",
              "  <thead>\n",
              "    <tr style=\"text-align: right;\">\n",
              "      <th></th>\n",
              "      <th>Spo2</th>\n",
              "      <th>HBlood</th>\n",
              "      <th>LBlood</th>\n",
              "      <th>ChestPain</th>\n",
              "      <th>SHBreath</th>\n",
              "      <th>Palip</th>\n",
              "      <th>Rest</th>\n",
              "      <th>Peaks</th>\n",
              "      <th>QRSwidth</th>\n",
              "      <th>P_P</th>\n",
              "      <th>STEl</th>\n",
              "      <th>Triage</th>\n",
              "    </tr>\n",
              "  </thead>\n",
              "  <tbody>\n",
              "    <tr>\n",
              "      <th>0</th>\n",
              "      <td>80</td>\n",
              "      <td>23.0</td>\n",
              "      <td>10.5</td>\n",
              "      <td>No</td>\n",
              "      <td>No</td>\n",
              "      <td>Yes</td>\n",
              "      <td>Yes</td>\n",
              "      <td>105</td>\n",
              "      <td>0.22</td>\n",
              "      <td>irregular</td>\n",
              "      <td>No</td>\n",
              "      <td>93</td>\n",
              "    </tr>\n",
              "    <tr>\n",
              "      <th>1</th>\n",
              "      <td>81</td>\n",
              "      <td>19.5</td>\n",
              "      <td>11.5</td>\n",
              "      <td>Yes</td>\n",
              "      <td>Yes</td>\n",
              "      <td>Yes</td>\n",
              "      <td>No</td>\n",
              "      <td>50</td>\n",
              "      <td>0.20</td>\n",
              "      <td>irregular</td>\n",
              "      <td>Yes</td>\n",
              "      <td>81</td>\n",
              "    </tr>\n",
              "    <tr>\n",
              "      <th>2</th>\n",
              "      <td>76</td>\n",
              "      <td>17.5</td>\n",
              "      <td>6.0</td>\n",
              "      <td>Yes</td>\n",
              "      <td>Yes</td>\n",
              "      <td>Yes</td>\n",
              "      <td>Yes</td>\n",
              "      <td>117</td>\n",
              "      <td>0.38</td>\n",
              "      <td>irregular</td>\n",
              "      <td>Yes</td>\n",
              "      <td>94</td>\n",
              "    </tr>\n",
              "    <tr>\n",
              "      <th>3</th>\n",
              "      <td>91</td>\n",
              "      <td>18.0</td>\n",
              "      <td>12.0</td>\n",
              "      <td>No</td>\n",
              "      <td>Yes</td>\n",
              "      <td>No</td>\n",
              "      <td>Yes</td>\n",
              "      <td>72</td>\n",
              "      <td>0.36</td>\n",
              "      <td>regular</td>\n",
              "      <td>Yes</td>\n",
              "      <td>80</td>\n",
              "    </tr>\n",
              "    <tr>\n",
              "      <th>4</th>\n",
              "      <td>92</td>\n",
              "      <td>14.0</td>\n",
              "      <td>12.0</td>\n",
              "      <td>Yes</td>\n",
              "      <td>No</td>\n",
              "      <td>No</td>\n",
              "      <td>Yes</td>\n",
              "      <td>100</td>\n",
              "      <td>0.36</td>\n",
              "      <td>irregular</td>\n",
              "      <td>No</td>\n",
              "      <td>82</td>\n",
              "    </tr>\n",
              "  </tbody>\n",
              "</table>\n",
              "</div>\n",
              "      <button class=\"colab-df-convert\" onclick=\"convertToInteractive('df-38d741f3-3c37-4941-a514-1c3665780588')\"\n",
              "              title=\"Convert this dataframe to an interactive table.\"\n",
              "              style=\"display:none;\">\n",
              "        \n",
              "  <svg xmlns=\"http://www.w3.org/2000/svg\" height=\"24px\"viewBox=\"0 0 24 24\"\n",
              "       width=\"24px\">\n",
              "    <path d=\"M0 0h24v24H0V0z\" fill=\"none\"/>\n",
              "    <path d=\"M18.56 5.44l.94 2.06.94-2.06 2.06-.94-2.06-.94-.94-2.06-.94 2.06-2.06.94zm-11 1L8.5 8.5l.94-2.06 2.06-.94-2.06-.94L8.5 2.5l-.94 2.06-2.06.94zm10 10l.94 2.06.94-2.06 2.06-.94-2.06-.94-.94-2.06-.94 2.06-2.06.94z\"/><path d=\"M17.41 7.96l-1.37-1.37c-.4-.4-.92-.59-1.43-.59-.52 0-1.04.2-1.43.59L10.3 9.45l-7.72 7.72c-.78.78-.78 2.05 0 2.83L4 21.41c.39.39.9.59 1.41.59.51 0 1.02-.2 1.41-.59l7.78-7.78 2.81-2.81c.8-.78.8-2.07 0-2.86zM5.41 20L4 18.59l7.72-7.72 1.47 1.35L5.41 20z\"/>\n",
              "  </svg>\n",
              "      </button>\n",
              "      \n",
              "  <style>\n",
              "    .colab-df-container {\n",
              "      display:flex;\n",
              "      flex-wrap:wrap;\n",
              "      gap: 12px;\n",
              "    }\n",
              "\n",
              "    .colab-df-convert {\n",
              "      background-color: #E8F0FE;\n",
              "      border: none;\n",
              "      border-radius: 50%;\n",
              "      cursor: pointer;\n",
              "      display: none;\n",
              "      fill: #1967D2;\n",
              "      height: 32px;\n",
              "      padding: 0 0 0 0;\n",
              "      width: 32px;\n",
              "    }\n",
              "\n",
              "    .colab-df-convert:hover {\n",
              "      background-color: #E2EBFA;\n",
              "      box-shadow: 0px 1px 2px rgba(60, 64, 67, 0.3), 0px 1px 3px 1px rgba(60, 64, 67, 0.15);\n",
              "      fill: #174EA6;\n",
              "    }\n",
              "\n",
              "    [theme=dark] .colab-df-convert {\n",
              "      background-color: #3B4455;\n",
              "      fill: #D2E3FC;\n",
              "    }\n",
              "\n",
              "    [theme=dark] .colab-df-convert:hover {\n",
              "      background-color: #434B5C;\n",
              "      box-shadow: 0px 1px 3px 1px rgba(0, 0, 0, 0.15);\n",
              "      filter: drop-shadow(0px 1px 2px rgba(0, 0, 0, 0.3));\n",
              "      fill: #FFFFFF;\n",
              "    }\n",
              "  </style>\n",
              "\n",
              "      <script>\n",
              "        const buttonEl =\n",
              "          document.querySelector('#df-38d741f3-3c37-4941-a514-1c3665780588 button.colab-df-convert');\n",
              "        buttonEl.style.display =\n",
              "          google.colab.kernel.accessAllowed ? 'block' : 'none';\n",
              "\n",
              "        async function convertToInteractive(key) {\n",
              "          const element = document.querySelector('#df-38d741f3-3c37-4941-a514-1c3665780588');\n",
              "          const dataTable =\n",
              "            await google.colab.kernel.invokeFunction('convertToInteractive',\n",
              "                                                     [key], {});\n",
              "          if (!dataTable) return;\n",
              "\n",
              "          const docLinkHtml = 'Like what you see? Visit the ' +\n",
              "            '<a target=\"_blank\" href=https://colab.research.google.com/notebooks/data_table.ipynb>data table notebook</a>'\n",
              "            + ' to learn more about interactive tables.';\n",
              "          element.innerHTML = '';\n",
              "          dataTable['output_type'] = 'display_data';\n",
              "          await google.colab.output.renderOutput(dataTable, element);\n",
              "          const docLink = document.createElement('div');\n",
              "          docLink.innerHTML = docLinkHtml;\n",
              "          element.appendChild(docLink);\n",
              "        }\n",
              "      </script>\n",
              "    </div>\n",
              "  </div>\n",
              "  "
            ]
          },
          "metadata": {},
          "execution_count": 10
        }
      ],
      "source": [
        "#show data after Change\n",
        "wl.head(5) "
      ]
    },
    {
      "cell_type": "markdown",
      "source": [
        "**Start by running the classification using Triage function on all the data**"
      ],
      "metadata": {
        "id": "VuVEfqJKwAtK"
      }
    },
    {
      "cell_type": "code",
      "execution_count": null,
      "metadata": {
        "id": "_ulS7ldqaM59"
      },
      "outputs": [],
      "source": [
        "wl['Triage'] = wl.apply(Gen_Triage, axis=1) "
      ]
    },
    {
      "cell_type": "code",
      "source": [
        "#Show the number of samples for each case\n",
        "wl['Triage'].value_counts()  "
      ],
      "metadata": {
        "colab": {
          "base_uri": "https://localhost:8080/"
        },
        "id": "Wc4D5VkW03qf",
        "outputId": "404bedf5-ab0a-45f3-f0a7-2be20165cd18"
      },
      "execution_count": null,
      "outputs": [
        {
          "output_type": "execute_result",
          "data": {
            "text/plain": [
              "null          15422174\n",
              "RISK           1409325\n",
              "URGENT         1268058\n",
              "COLD STATE     1248166\n",
              "SICK            646328\n",
              "NORMAL            5949\n",
              "Name: Triage, dtype: int64"
            ]
          },
          "metadata": {},
          "execution_count": 12
        }
      ]
    },
    {
      "cell_type": "markdown",
      "source": [
        "**Remove Case None**"
      ],
      "metadata": {
        "id": "nlNjlSb8xsDb"
      }
    },
    {
      "cell_type": "code",
      "execution_count": null,
      "metadata": {
        "colab": {
          "base_uri": "https://localhost:8080/"
        },
        "id": "aj4mqH7qfo2_",
        "outputId": "9a1f5731-da92-4856-bbe0-a92ed88afd37"
      },
      "outputs": [
        {
          "output_type": "execute_result",
          "data": {
            "text/plain": [
              "RISK          1409325\n",
              "URGENT        1268058\n",
              "COLD STATE    1248166\n",
              "SICK           646328\n",
              "NORMAL           5949\n",
              "Name: Triage, dtype: int64"
            ]
          },
          "metadata": {},
          "execution_count": 13
        }
      ],
      "source": [
        "wl = wl[wl['Triage'] != 'null'] \n",
        "wl['Triage'].value_counts()  "
      ]
    },
    {
      "cell_type": "markdown",
      "source": [
        "**Adjust the maximum number of samples to a uniform number**"
      ],
      "metadata": {
        "id": "fpK5GwVbx7DG"
      }
    },
    {
      "cell_type": "code",
      "source": [
        "max_num = 120000  #We can Chinge this value"
      ],
      "metadata": {
        "id": "jpNSYmqjyORd"
      },
      "execution_count": null,
      "outputs": []
    },
    {
      "cell_type": "code",
      "source": [
        "URGENT = wl[wl['Triage'] == 'URGENT'][:max_num]\n",
        "SICK = wl[wl['Triage'] == 'SICK'][:max_num]\n",
        "COLD_STATE = wl[wl['Triage'] == 'COLD STATE'][:max_num]\n",
        "NORMAL = wl[wl['Triage'] == 'NORMAL'][:max_num]\n",
        "RISK = wl[wl['Triage'] == 'RISK'][:max_num]"
      ],
      "metadata": {
        "id": "v4yEc4x9qT7b"
      },
      "execution_count": null,
      "outputs": []
    },
    {
      "cell_type": "markdown",
      "source": [
        "**Merge all Cases to one dataframe**"
      ],
      "metadata": {
        "id": "MPOLZ0Q3y4BC"
      }
    },
    {
      "cell_type": "code",
      "source": [
        "wl2 = pd.concat([URGENT, SICK, COLD_STATE, NORMAL, RISK]) \n",
        "wl2.head(3) "
      ],
      "metadata": {
        "colab": {
          "base_uri": "https://localhost:8080/",
          "height": 143
        },
        "id": "I5RT6dP0qyJm",
        "outputId": "4bf0b9d1-9284-47a8-d56d-c06d8e3587f5"
      },
      "execution_count": null,
      "outputs": [
        {
          "output_type": "execute_result",
          "data": {
            "text/plain": [
              "    Spo2  HBlood  LBlood ChestPain SHBreath Palip Rest  Peaks  QRSwidth  \\\n",
              "5     84    15.5     8.0        No       No    No  Yes    119      0.38   \n",
              "23    87    21.5     6.5       Yes       No    No   No    116      0.14   \n",
              "56    83    20.5     6.5       Yes       No    No  Yes    124      0.34   \n",
              "\n",
              "          P_P STEl  Triage  \n",
              "5   irregular   No  URGENT  \n",
              "23  irregular  Yes  URGENT  \n",
              "56  irregular  Yes  URGENT  "
            ],
            "text/html": [
              "\n",
              "  <div id=\"df-3ed7e14d-4894-4ba4-9204-442b945190dc\">\n",
              "    <div class=\"colab-df-container\">\n",
              "      <div>\n",
              "<style scoped>\n",
              "    .dataframe tbody tr th:only-of-type {\n",
              "        vertical-align: middle;\n",
              "    }\n",
              "\n",
              "    .dataframe tbody tr th {\n",
              "        vertical-align: top;\n",
              "    }\n",
              "\n",
              "    .dataframe thead th {\n",
              "        text-align: right;\n",
              "    }\n",
              "</style>\n",
              "<table border=\"1\" class=\"dataframe\">\n",
              "  <thead>\n",
              "    <tr style=\"text-align: right;\">\n",
              "      <th></th>\n",
              "      <th>Spo2</th>\n",
              "      <th>HBlood</th>\n",
              "      <th>LBlood</th>\n",
              "      <th>ChestPain</th>\n",
              "      <th>SHBreath</th>\n",
              "      <th>Palip</th>\n",
              "      <th>Rest</th>\n",
              "      <th>Peaks</th>\n",
              "      <th>QRSwidth</th>\n",
              "      <th>P_P</th>\n",
              "      <th>STEl</th>\n",
              "      <th>Triage</th>\n",
              "    </tr>\n",
              "  </thead>\n",
              "  <tbody>\n",
              "    <tr>\n",
              "      <th>5</th>\n",
              "      <td>84</td>\n",
              "      <td>15.5</td>\n",
              "      <td>8.0</td>\n",
              "      <td>No</td>\n",
              "      <td>No</td>\n",
              "      <td>No</td>\n",
              "      <td>Yes</td>\n",
              "      <td>119</td>\n",
              "      <td>0.38</td>\n",
              "      <td>irregular</td>\n",
              "      <td>No</td>\n",
              "      <td>URGENT</td>\n",
              "    </tr>\n",
              "    <tr>\n",
              "      <th>23</th>\n",
              "      <td>87</td>\n",
              "      <td>21.5</td>\n",
              "      <td>6.5</td>\n",
              "      <td>Yes</td>\n",
              "      <td>No</td>\n",
              "      <td>No</td>\n",
              "      <td>No</td>\n",
              "      <td>116</td>\n",
              "      <td>0.14</td>\n",
              "      <td>irregular</td>\n",
              "      <td>Yes</td>\n",
              "      <td>URGENT</td>\n",
              "    </tr>\n",
              "    <tr>\n",
              "      <th>56</th>\n",
              "      <td>83</td>\n",
              "      <td>20.5</td>\n",
              "      <td>6.5</td>\n",
              "      <td>Yes</td>\n",
              "      <td>No</td>\n",
              "      <td>No</td>\n",
              "      <td>Yes</td>\n",
              "      <td>124</td>\n",
              "      <td>0.34</td>\n",
              "      <td>irregular</td>\n",
              "      <td>Yes</td>\n",
              "      <td>URGENT</td>\n",
              "    </tr>\n",
              "  </tbody>\n",
              "</table>\n",
              "</div>\n",
              "      <button class=\"colab-df-convert\" onclick=\"convertToInteractive('df-3ed7e14d-4894-4ba4-9204-442b945190dc')\"\n",
              "              title=\"Convert this dataframe to an interactive table.\"\n",
              "              style=\"display:none;\">\n",
              "        \n",
              "  <svg xmlns=\"http://www.w3.org/2000/svg\" height=\"24px\"viewBox=\"0 0 24 24\"\n",
              "       width=\"24px\">\n",
              "    <path d=\"M0 0h24v24H0V0z\" fill=\"none\"/>\n",
              "    <path d=\"M18.56 5.44l.94 2.06.94-2.06 2.06-.94-2.06-.94-.94-2.06-.94 2.06-2.06.94zm-11 1L8.5 8.5l.94-2.06 2.06-.94-2.06-.94L8.5 2.5l-.94 2.06-2.06.94zm10 10l.94 2.06.94-2.06 2.06-.94-2.06-.94-.94-2.06-.94 2.06-2.06.94z\"/><path d=\"M17.41 7.96l-1.37-1.37c-.4-.4-.92-.59-1.43-.59-.52 0-1.04.2-1.43.59L10.3 9.45l-7.72 7.72c-.78.78-.78 2.05 0 2.83L4 21.41c.39.39.9.59 1.41.59.51 0 1.02-.2 1.41-.59l7.78-7.78 2.81-2.81c.8-.78.8-2.07 0-2.86zM5.41 20L4 18.59l7.72-7.72 1.47 1.35L5.41 20z\"/>\n",
              "  </svg>\n",
              "      </button>\n",
              "      \n",
              "  <style>\n",
              "    .colab-df-container {\n",
              "      display:flex;\n",
              "      flex-wrap:wrap;\n",
              "      gap: 12px;\n",
              "    }\n",
              "\n",
              "    .colab-df-convert {\n",
              "      background-color: #E8F0FE;\n",
              "      border: none;\n",
              "      border-radius: 50%;\n",
              "      cursor: pointer;\n",
              "      display: none;\n",
              "      fill: #1967D2;\n",
              "      height: 32px;\n",
              "      padding: 0 0 0 0;\n",
              "      width: 32px;\n",
              "    }\n",
              "\n",
              "    .colab-df-convert:hover {\n",
              "      background-color: #E2EBFA;\n",
              "      box-shadow: 0px 1px 2px rgba(60, 64, 67, 0.3), 0px 1px 3px 1px rgba(60, 64, 67, 0.15);\n",
              "      fill: #174EA6;\n",
              "    }\n",
              "\n",
              "    [theme=dark] .colab-df-convert {\n",
              "      background-color: #3B4455;\n",
              "      fill: #D2E3FC;\n",
              "    }\n",
              "\n",
              "    [theme=dark] .colab-df-convert:hover {\n",
              "      background-color: #434B5C;\n",
              "      box-shadow: 0px 1px 3px 1px rgba(0, 0, 0, 0.15);\n",
              "      filter: drop-shadow(0px 1px 2px rgba(0, 0, 0, 0.3));\n",
              "      fill: #FFFFFF;\n",
              "    }\n",
              "  </style>\n",
              "\n",
              "      <script>\n",
              "        const buttonEl =\n",
              "          document.querySelector('#df-3ed7e14d-4894-4ba4-9204-442b945190dc button.colab-df-convert');\n",
              "        buttonEl.style.display =\n",
              "          google.colab.kernel.accessAllowed ? 'block' : 'none';\n",
              "\n",
              "        async function convertToInteractive(key) {\n",
              "          const element = document.querySelector('#df-3ed7e14d-4894-4ba4-9204-442b945190dc');\n",
              "          const dataTable =\n",
              "            await google.colab.kernel.invokeFunction('convertToInteractive',\n",
              "                                                     [key], {});\n",
              "          if (!dataTable) return;\n",
              "\n",
              "          const docLinkHtml = 'Like what you see? Visit the ' +\n",
              "            '<a target=\"_blank\" href=https://colab.research.google.com/notebooks/data_table.ipynb>data table notebook</a>'\n",
              "            + ' to learn more about interactive tables.';\n",
              "          element.innerHTML = '';\n",
              "          dataTable['output_type'] = 'display_data';\n",
              "          await google.colab.output.renderOutput(dataTable, element);\n",
              "          const docLink = document.createElement('div');\n",
              "          docLink.innerHTML = docLinkHtml;\n",
              "          element.appendChild(docLink);\n",
              "        }\n",
              "      </script>\n",
              "    </div>\n",
              "  </div>\n",
              "  "
            ]
          },
          "metadata": {},
          "execution_count": 17
        }
      ]
    },
    {
      "cell_type": "markdown",
      "source": [
        "**Re Shuffle DataFrame rows**"
      ],
      "metadata": {
        "id": "ddn0gER_zY7N"
      }
    },
    {
      "cell_type": "code",
      "source": [
        "wl2 = shuffle(wl2)\n",
        "wl2.head(10)"
      ],
      "metadata": {
        "colab": {
          "base_uri": "https://localhost:8080/",
          "height": 363
        },
        "id": "QOVJyW53sHSi",
        "outputId": "8deb05a4-9911-404e-9d2f-7f248fb837f9"
      },
      "execution_count": null,
      "outputs": [
        {
          "output_type": "execute_result",
          "data": {
            "text/plain": [
              "         Spo2  HBlood  LBlood ChestPain SHBreath Palip Rest  Peaks  QRSwidth  \\\n",
              "2811862    91    16.5     6.0       Yes      Yes   Yes  Yes     54      0.30   \n",
              "972894     80    23.0     8.0       Yes      Yes   Yes   No     48      0.20   \n",
              "241039     93    15.5     7.0       Yes       No   Yes  Yes     59      0.36   \n",
              "3045525    93    12.5    11.0       Yes      Yes   Yes  Yes     58      0.36   \n",
              "2149247    80    15.5    11.5       Yes      Yes   Yes  Yes     74      0.38   \n",
              "1835898    96    20.5     8.5       Yes      Yes    No  Yes     51      0.24   \n",
              "1286070    94    18.0    11.5       Yes      Yes   Yes   No     91      0.32   \n",
              "2391970    91    18.5    11.0       Yes      Yes   Yes  Yes     43      0.28   \n",
              "3697209    95    11.5    12.0       Yes      Yes   Yes  Yes     98      0.38   \n",
              "109455     91    13.0    12.0       Yes      Yes   Yes  Yes     89      0.32   \n",
              "\n",
              "               P_P STEl      Triage  \n",
              "2811862  irregular  Yes        SICK  \n",
              "972894   irregular   No        RISK  \n",
              "241039     regular   No  COLD STATE  \n",
              "3045525  irregular  Yes        SICK  \n",
              "2149247  irregular  Yes        SICK  \n",
              "1835898    regular   No  COLD STATE  \n",
              "1286070    regular   No  COLD STATE  \n",
              "2391970    regular  Yes        SICK  \n",
              "3697209  irregular  Yes        SICK  \n",
              "109455     regular  Yes        SICK  "
            ],
            "text/html": [
              "\n",
              "  <div id=\"df-959f5fd0-0fd3-45bc-a9aa-93e285122caa\">\n",
              "    <div class=\"colab-df-container\">\n",
              "      <div>\n",
              "<style scoped>\n",
              "    .dataframe tbody tr th:only-of-type {\n",
              "        vertical-align: middle;\n",
              "    }\n",
              "\n",
              "    .dataframe tbody tr th {\n",
              "        vertical-align: top;\n",
              "    }\n",
              "\n",
              "    .dataframe thead th {\n",
              "        text-align: right;\n",
              "    }\n",
              "</style>\n",
              "<table border=\"1\" class=\"dataframe\">\n",
              "  <thead>\n",
              "    <tr style=\"text-align: right;\">\n",
              "      <th></th>\n",
              "      <th>Spo2</th>\n",
              "      <th>HBlood</th>\n",
              "      <th>LBlood</th>\n",
              "      <th>ChestPain</th>\n",
              "      <th>SHBreath</th>\n",
              "      <th>Palip</th>\n",
              "      <th>Rest</th>\n",
              "      <th>Peaks</th>\n",
              "      <th>QRSwidth</th>\n",
              "      <th>P_P</th>\n",
              "      <th>STEl</th>\n",
              "      <th>Triage</th>\n",
              "    </tr>\n",
              "  </thead>\n",
              "  <tbody>\n",
              "    <tr>\n",
              "      <th>2811862</th>\n",
              "      <td>91</td>\n",
              "      <td>16.5</td>\n",
              "      <td>6.0</td>\n",
              "      <td>Yes</td>\n",
              "      <td>Yes</td>\n",
              "      <td>Yes</td>\n",
              "      <td>Yes</td>\n",
              "      <td>54</td>\n",
              "      <td>0.30</td>\n",
              "      <td>irregular</td>\n",
              "      <td>Yes</td>\n",
              "      <td>SICK</td>\n",
              "    </tr>\n",
              "    <tr>\n",
              "      <th>972894</th>\n",
              "      <td>80</td>\n",
              "      <td>23.0</td>\n",
              "      <td>8.0</td>\n",
              "      <td>Yes</td>\n",
              "      <td>Yes</td>\n",
              "      <td>Yes</td>\n",
              "      <td>No</td>\n",
              "      <td>48</td>\n",
              "      <td>0.20</td>\n",
              "      <td>irregular</td>\n",
              "      <td>No</td>\n",
              "      <td>RISK</td>\n",
              "    </tr>\n",
              "    <tr>\n",
              "      <th>241039</th>\n",
              "      <td>93</td>\n",
              "      <td>15.5</td>\n",
              "      <td>7.0</td>\n",
              "      <td>Yes</td>\n",
              "      <td>No</td>\n",
              "      <td>Yes</td>\n",
              "      <td>Yes</td>\n",
              "      <td>59</td>\n",
              "      <td>0.36</td>\n",
              "      <td>regular</td>\n",
              "      <td>No</td>\n",
              "      <td>COLD STATE</td>\n",
              "    </tr>\n",
              "    <tr>\n",
              "      <th>3045525</th>\n",
              "      <td>93</td>\n",
              "      <td>12.5</td>\n",
              "      <td>11.0</td>\n",
              "      <td>Yes</td>\n",
              "      <td>Yes</td>\n",
              "      <td>Yes</td>\n",
              "      <td>Yes</td>\n",
              "      <td>58</td>\n",
              "      <td>0.36</td>\n",
              "      <td>irregular</td>\n",
              "      <td>Yes</td>\n",
              "      <td>SICK</td>\n",
              "    </tr>\n",
              "    <tr>\n",
              "      <th>2149247</th>\n",
              "      <td>80</td>\n",
              "      <td>15.5</td>\n",
              "      <td>11.5</td>\n",
              "      <td>Yes</td>\n",
              "      <td>Yes</td>\n",
              "      <td>Yes</td>\n",
              "      <td>Yes</td>\n",
              "      <td>74</td>\n",
              "      <td>0.38</td>\n",
              "      <td>irregular</td>\n",
              "      <td>Yes</td>\n",
              "      <td>SICK</td>\n",
              "    </tr>\n",
              "    <tr>\n",
              "      <th>1835898</th>\n",
              "      <td>96</td>\n",
              "      <td>20.5</td>\n",
              "      <td>8.5</td>\n",
              "      <td>Yes</td>\n",
              "      <td>Yes</td>\n",
              "      <td>No</td>\n",
              "      <td>Yes</td>\n",
              "      <td>51</td>\n",
              "      <td>0.24</td>\n",
              "      <td>regular</td>\n",
              "      <td>No</td>\n",
              "      <td>COLD STATE</td>\n",
              "    </tr>\n",
              "    <tr>\n",
              "      <th>1286070</th>\n",
              "      <td>94</td>\n",
              "      <td>18.0</td>\n",
              "      <td>11.5</td>\n",
              "      <td>Yes</td>\n",
              "      <td>Yes</td>\n",
              "      <td>Yes</td>\n",
              "      <td>No</td>\n",
              "      <td>91</td>\n",
              "      <td>0.32</td>\n",
              "      <td>regular</td>\n",
              "      <td>No</td>\n",
              "      <td>COLD STATE</td>\n",
              "    </tr>\n",
              "    <tr>\n",
              "      <th>2391970</th>\n",
              "      <td>91</td>\n",
              "      <td>18.5</td>\n",
              "      <td>11.0</td>\n",
              "      <td>Yes</td>\n",
              "      <td>Yes</td>\n",
              "      <td>Yes</td>\n",
              "      <td>Yes</td>\n",
              "      <td>43</td>\n",
              "      <td>0.28</td>\n",
              "      <td>regular</td>\n",
              "      <td>Yes</td>\n",
              "      <td>SICK</td>\n",
              "    </tr>\n",
              "    <tr>\n",
              "      <th>3697209</th>\n",
              "      <td>95</td>\n",
              "      <td>11.5</td>\n",
              "      <td>12.0</td>\n",
              "      <td>Yes</td>\n",
              "      <td>Yes</td>\n",
              "      <td>Yes</td>\n",
              "      <td>Yes</td>\n",
              "      <td>98</td>\n",
              "      <td>0.38</td>\n",
              "      <td>irregular</td>\n",
              "      <td>Yes</td>\n",
              "      <td>SICK</td>\n",
              "    </tr>\n",
              "    <tr>\n",
              "      <th>109455</th>\n",
              "      <td>91</td>\n",
              "      <td>13.0</td>\n",
              "      <td>12.0</td>\n",
              "      <td>Yes</td>\n",
              "      <td>Yes</td>\n",
              "      <td>Yes</td>\n",
              "      <td>Yes</td>\n",
              "      <td>89</td>\n",
              "      <td>0.32</td>\n",
              "      <td>regular</td>\n",
              "      <td>Yes</td>\n",
              "      <td>SICK</td>\n",
              "    </tr>\n",
              "  </tbody>\n",
              "</table>\n",
              "</div>\n",
              "      <button class=\"colab-df-convert\" onclick=\"convertToInteractive('df-959f5fd0-0fd3-45bc-a9aa-93e285122caa')\"\n",
              "              title=\"Convert this dataframe to an interactive table.\"\n",
              "              style=\"display:none;\">\n",
              "        \n",
              "  <svg xmlns=\"http://www.w3.org/2000/svg\" height=\"24px\"viewBox=\"0 0 24 24\"\n",
              "       width=\"24px\">\n",
              "    <path d=\"M0 0h24v24H0V0z\" fill=\"none\"/>\n",
              "    <path d=\"M18.56 5.44l.94 2.06.94-2.06 2.06-.94-2.06-.94-.94-2.06-.94 2.06-2.06.94zm-11 1L8.5 8.5l.94-2.06 2.06-.94-2.06-.94L8.5 2.5l-.94 2.06-2.06.94zm10 10l.94 2.06.94-2.06 2.06-.94-2.06-.94-.94-2.06-.94 2.06-2.06.94z\"/><path d=\"M17.41 7.96l-1.37-1.37c-.4-.4-.92-.59-1.43-.59-.52 0-1.04.2-1.43.59L10.3 9.45l-7.72 7.72c-.78.78-.78 2.05 0 2.83L4 21.41c.39.39.9.59 1.41.59.51 0 1.02-.2 1.41-.59l7.78-7.78 2.81-2.81c.8-.78.8-2.07 0-2.86zM5.41 20L4 18.59l7.72-7.72 1.47 1.35L5.41 20z\"/>\n",
              "  </svg>\n",
              "      </button>\n",
              "      \n",
              "  <style>\n",
              "    .colab-df-container {\n",
              "      display:flex;\n",
              "      flex-wrap:wrap;\n",
              "      gap: 12px;\n",
              "    }\n",
              "\n",
              "    .colab-df-convert {\n",
              "      background-color: #E8F0FE;\n",
              "      border: none;\n",
              "      border-radius: 50%;\n",
              "      cursor: pointer;\n",
              "      display: none;\n",
              "      fill: #1967D2;\n",
              "      height: 32px;\n",
              "      padding: 0 0 0 0;\n",
              "      width: 32px;\n",
              "    }\n",
              "\n",
              "    .colab-df-convert:hover {\n",
              "      background-color: #E2EBFA;\n",
              "      box-shadow: 0px 1px 2px rgba(60, 64, 67, 0.3), 0px 1px 3px 1px rgba(60, 64, 67, 0.15);\n",
              "      fill: #174EA6;\n",
              "    }\n",
              "\n",
              "    [theme=dark] .colab-df-convert {\n",
              "      background-color: #3B4455;\n",
              "      fill: #D2E3FC;\n",
              "    }\n",
              "\n",
              "    [theme=dark] .colab-df-convert:hover {\n",
              "      background-color: #434B5C;\n",
              "      box-shadow: 0px 1px 3px 1px rgba(0, 0, 0, 0.15);\n",
              "      filter: drop-shadow(0px 1px 2px rgba(0, 0, 0, 0.3));\n",
              "      fill: #FFFFFF;\n",
              "    }\n",
              "  </style>\n",
              "\n",
              "      <script>\n",
              "        const buttonEl =\n",
              "          document.querySelector('#df-959f5fd0-0fd3-45bc-a9aa-93e285122caa button.colab-df-convert');\n",
              "        buttonEl.style.display =\n",
              "          google.colab.kernel.accessAllowed ? 'block' : 'none';\n",
              "\n",
              "        async function convertToInteractive(key) {\n",
              "          const element = document.querySelector('#df-959f5fd0-0fd3-45bc-a9aa-93e285122caa');\n",
              "          const dataTable =\n",
              "            await google.colab.kernel.invokeFunction('convertToInteractive',\n",
              "                                                     [key], {});\n",
              "          if (!dataTable) return;\n",
              "\n",
              "          const docLinkHtml = 'Like what you see? Visit the ' +\n",
              "            '<a target=\"_blank\" href=https://colab.research.google.com/notebooks/data_table.ipynb>data table notebook</a>'\n",
              "            + ' to learn more about interactive tables.';\n",
              "          element.innerHTML = '';\n",
              "          dataTable['output_type'] = 'display_data';\n",
              "          await google.colab.output.renderOutput(dataTable, element);\n",
              "          const docLink = document.createElement('div');\n",
              "          docLink.innerHTML = docLinkHtml;\n",
              "          element.appendChild(docLink);\n",
              "        }\n",
              "      </script>\n",
              "    </div>\n",
              "  </div>\n",
              "  "
            ]
          },
          "metadata": {},
          "execution_count": 27
        }
      ]
    },
    {
      "cell_type": "code",
      "source": [
        "wl2.shape"
      ],
      "metadata": {
        "colab": {
          "base_uri": "https://localhost:8080/"
        },
        "id": "r30LAdNy1AJP",
        "outputId": "64fad867-aab7-41e3-c1d4-a4bb3cab9d46"
      },
      "execution_count": null,
      "outputs": [
        {
          "output_type": "execute_result",
          "data": {
            "text/plain": [
              "(485949, 12)"
            ]
          },
          "metadata": {},
          "execution_count": 20
        }
      ]
    },
    {
      "cell_type": "markdown",
      "source": [
        "**We  are Save data to Google Drive,**\n",
        "![Screenshot from 2022-10-10 19-09-36009.jpg](data:image/jpeg;base64,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)\n",
        "\n",
        "\n",
        "**Please Mounte Drive by pressing the files icon on the left of the screen and then the Drive icon, before executing the next cell.**"
      ],
      "metadata": {
        "id": "5Nj9invi2QtJ"
      }
    },
    {
      "cell_type": "code",
      "execution_count": null,
      "metadata": {
        "id": "lnz38_jkcbjG"
      },
      "outputs": [],
      "source": [
        "wl2.to_excel('/content/drive/MyDrive/dataset_genh10_10_2022.xlsx',index=False) "
      ]
    },
    {
      "cell_type": "markdown",
      "source": [
        "**Done..**"
      ],
      "metadata": {
        "id": "2N_IEZIH5Lp4"
      }
    }
  ],
  "metadata": {
    "colab": {
      "collapsed_sections": [],
      "provenance": [],
      "include_colab_link": true
    },
    "kernelspec": {
      "display_name": "Python 3",
      "name": "python3"
    },
    "language_info": {
      "name": "python"
    }
  },
  "nbformat": 4,
  "nbformat_minor": 0
}